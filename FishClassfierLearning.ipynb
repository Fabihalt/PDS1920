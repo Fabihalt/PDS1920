{
  "nbformat": 4,
  "nbformat_minor": 0,
  "metadata": {
    "colab": {
      "name": "FishClassfierLearning.ipynb",
      "provenance": [],
      "authorship_tag": "ABX9TyMkCtpNfgtv7Xd9vq6etnLW",
      "include_colab_link": true
    },
    "kernelspec": {
      "name": "python3",
      "display_name": "Python 3"
    }
  },
  "cells": [
    {
      "cell_type": "markdown",
      "metadata": {
        "id": "view-in-github",
        "colab_type": "text"
      },
      "source": [
        "<a href=\"https://colab.research.google.com/github/Fabihalt/PDS1920/blob/master/FishClassfierLearning.ipynb\" target=\"_parent\"><img src=\"https://colab.research.google.com/assets/colab-badge.svg\" alt=\"Open In Colab\"/></a>"
      ]
    },
    {
      "cell_type": "markdown",
      "metadata": {
        "id": "4UjxwX1JKU5L",
        "colab_type": "text"
      },
      "source": [
        "#**Image Classifer trainieren**#"
      ]
    },
    {
      "cell_type": "markdown",
      "metadata": {
        "id": "VLCtvH6HI8uZ",
        "colab_type": "text"
      },
      "source": [
        "In diesem Notebook wird ein Image Classfier zur Fischerkennung auf Bildern trainiert. Die Basis ist ein ResNet50-Netzes (wie in der Vorlesung vorgestellt), dass mit den von Kaggle zur Verfügung gestellten Daten Trainingsdaten anglernt wird. Im späteren Verlauf wir diesem trainnierten Classifier die von unserem Object Detector gecroppten Bilder zur Bestimmung der Fischarten übergeben."
      ]
    },
    {
      "cell_type": "markdown",
      "metadata": {
        "id": "O4UqORWwSBBJ",
        "colab_type": "text"
      },
      "source": [
        "##**Vorbereitung**##"
      ]
    },
    {
      "cell_type": "code",
      "metadata": {
        "id": "-40IJXezIyRW",
        "colab_type": "code",
        "colab": {}
      },
      "source": [
        "# Einbinden aller benoetigten Packete\n",
        "from fastai import *\n",
        "from fastai.vision import *"
      ],
      "execution_count": 0,
      "outputs": []
    },
    {
      "cell_type": "code",
      "metadata": {
        "id": "p5lTieoDPYnx",
        "colab_type": "code",
        "colab": {}
      },
      "source": [
        "# Google Drive mounten\n",
        "# Daten aus dem Drive (Achtung Account!)\n",
        "from google.colab import drive\n",
        "drive.mount('/content/drive')"
      ],
      "execution_count": 0,
      "outputs": []
    },
    {
      "cell_type": "code",
      "metadata": {
        "id": "vOZbRBNaPk3Z",
        "colab_type": "code",
        "colab": {}
      },
      "source": [
        "# Directory aendern um auf Ordner zuzugreifen\n",
        "cd drive/My Drive/kaggle competition\n",
        "# Pfad pruefen\n",
        "path = Path('data/train')\n",
        "path.ls()\n",
        "#path = Path('')"
      ],
      "execution_count": 0,
      "outputs": []
    },
    {
      "cell_type": "code",
      "metadata": {
        "id": "YPbzusq1Qh1f",
        "colab_type": "code",
        "colab": {}
      },
      "source": [
        "#DATABUNCH erstellen aus den bildern von kaggle\n",
        "np.random.seed(42) \n",
        "data = ImageDataBunch.from_folder(path, train=\".\", \n",
        "                                  valid_pct=0.2,\n",
        "                                  ds_tfms=get_transforms(do_flip=True), \n",
        "                                  size=128).normalize(imagenet_stats)"
      ],
      "execution_count": 0,
      "outputs": []
    },
    {
      "cell_type": "code",
      "metadata": {
        "id": "IV4HtabyQ6C6",
        "colab_type": "code",
        "colab": {}
      },
      "source": [
        "# Ueberpruefen ob alles geklappt hat\n",
        "# Drei Dreierreihen mit Bildern anzeigen\n",
        "data.show_batch(rows=3)\n",
        "#data.classes, data.c, len(data.train_ds), len(data.valid_ds)"
      ],
      "execution_count": 0,
      "outputs": []
    },
    {
      "cell_type": "markdown",
      "metadata": {
        "id": "_tibgLgASWIn",
        "colab_type": "text"
      },
      "source": [
        "##**Learner erstellen (ResNet)**##"
      ]
    },
    {
      "cell_type": "code",
      "metadata": {
        "id": "eimZwN4aRd1v",
        "colab_type": "code",
        "colab": {}
      },
      "source": [
        "# #MODELING erstellen eines Learners mit resnet18 Architektur fuers erste (kompakt)\n",
        "# # Metriken und learner\n",
        "\n",
        "# # Import der Metriken\n",
        "# from fastai.metrics import accuracy, top_k_accuracy\n",
        "\n",
        "# #Top 3 Acc da viele Tunaarten dabei sind\n",
        "# top_3_accuracy = partial(top_k_accuracy, k=3)\n",
        "# metriken = [accuracy,top_3_accuracy]\n",
        "# # Learner mit den Metriken erstellen\n",
        "# learn = cnn_learner(data, models.resnet18, metrics=metriken)"
      ],
      "execution_count": 0,
      "outputs": []
    },
    {
      "cell_type": "code",
      "metadata": {
        "id": "rArAHPlkROf4",
        "colab_type": "code",
        "colab": {}
      },
      "source": [
        "#MODELING erstellen eines Learners mit resnet34 Architektur als zweite Variante (kompakt)\n",
        "# Metriken und learner\n",
        "\n",
        "## Import der Metriken\n",
        "#from fastai.metrics import accuracy, top_k_accuracy\n",
        "\n",
        "## Top 3 Acc da viele Tunaarten dabei sind\n",
        "#top_3_accuracy = partial(top_k_accuracy, k=3)\n",
        "#metriken = [accuracy,top_3_accuracy]\n",
        "## Learner mit den Metriken erstellen\n",
        "#learn = cnn_learner(data, models.resnet34, metrics=metriken)"
      ],
      "execution_count": 0,
      "outputs": []
    },
    {
      "cell_type": "code",
      "metadata": {
        "id": "iMCh0_GgRUoK",
        "colab_type": "code",
        "colab": {}
      },
      "source": [
        "#MODELING erstellen eines Learners mit resnet50 Architektur als aufwendigste Variante\n",
        "\n",
        "# Metriken und learner\n",
        "# Import der Metriken\n",
        "from fastai.metrics import accuracy, top_k_accuracy\n",
        "\n",
        "# Top 3 Acc da viele Tunaarten dabei sind\n",
        "top_3_accuracy = partial(top_k_accuracy, k=3)\n",
        "metriken = [accuracy,top_3_accuracy]\n",
        "\n",
        "# Learner mit den Metriken erstellen\n",
        "learn = cnn_learner(data, models.resnet50, metrics=metriken)"
      ],
      "execution_count": 0,
      "outputs": []
    },
    {
      "cell_type": "markdown",
      "metadata": {
        "id": "QOcMMR8NSmgA",
        "colab_type": "text"
      },
      "source": [
        "##**Training**##\n",
        "Das Training findet nach der aus der Vorlesung und aus dem fast.ai-Kurs bekannten Methodik statt. Es baut Hauptsächlich auf der korrekten Learningrate und der richtigen Anzahl von Epochen auf. Desweiteren wird zunächst nur die Letzten Layer des Netztes traininert da es sich um ein vortrainiertes Netz handelt, erst im Anschluss werden die restlichen Layer für das training zugänglich gemacht (unfreezing) und entsprechend ebenfalls trainiert."
      ]
    },
    {
      "cell_type": "markdown",
      "metadata": {
        "id": "k-jP7SQeUgMM",
        "colab_type": "text"
      },
      "source": [
        "###Erste Stufe###"
      ]
    },
    {
      "cell_type": "code",
      "metadata": {
        "id": "Ls0_SFQyS9Dw",
        "colab_type": "code",
        "colab": {}
      },
      "source": [
        "# Optimale Learningrate (Lernrate) finden\n",
        "learn.lr_find() \n",
        "# Plotten der LR\n",
        "learn.recorder.plot(suggestion=True)"
      ],
      "execution_count": 0,
      "outputs": []
    },
    {
      "cell_type": "code",
      "metadata": {
        "id": "JHZ8wJnwTPGj",
        "colab_type": "code",
        "colab": {}
      },
      "source": [
        "# Erste Stufe des Trainings\n",
        "# trainieren mit entsprechender lr\n",
        "learn.fit_one_cycle(5, max_lr=1E-02)"
      ],
      "execution_count": 0,
      "outputs": []
    },
    {
      "cell_type": "code",
      "metadata": {
        "id": "jIkjbPXqUnl_",
        "colab_type": "code",
        "colab": {}
      },
      "source": [
        "# Speicher des Zwischenstandes\n",
        "# (wir merken uns, dass wir bisher auf einer Bildgroesse von 128 traininieren)\n",
        "learn.save('stage-1-128')\n",
        "# Wir koennen immer wieder zureuck auf den alten Stand falls wir uns verschlechtern"
      ],
      "execution_count": 0,
      "outputs": []
    },
    {
      "cell_type": "code",
      "metadata": {
        "id": "Y71uRd0rVCps",
        "colab_type": "code",
        "colab": {}
      },
      "source": [
        "# Sofern noetig trail and error ausprobieren der LR und Epochenzahl um optimales \n",
        "# Ergebniss zu finden\n",
        "#learn.fit_one_cycle(7, max_lr=1E-03)\n",
        "#learn.load('stage-1-128')\n",
        "#learn.fit_one_cycle(12, max_lr=1E-03)\n",
        "#learn.load('stage-1-128)"
      ],
      "execution_count": 0,
      "outputs": []
    },
    {
      "cell_type": "markdown",
      "metadata": {
        "id": "x2-vHMQUU3so",
        "colab_type": "text"
      },
      "source": [
        "###Zweite Stufe###"
      ]
    },
    {
      "cell_type": "code",
      "metadata": {
        "id": "2ga8p87eU7K1",
        "colab_type": "code",
        "colab": {}
      },
      "source": [
        "# Nach erfolgreicher Erster Stufe\n",
        "# unfreezen und lr nochmals finden\n",
        "learn.unfreeze()\n",
        "learn.lr_find()\n",
        "# Plotten\n",
        "learn.recorder.plot(suggestion=True)"
      ],
      "execution_count": 0,
      "outputs": []
    },
    {
      "cell_type": "code",
      "metadata": {
        "id": "rwEAtIAiV6cV",
        "colab_type": "code",
        "colab": {}
      },
      "source": [
        "# trainieren mit slice\n",
        "# Wie aus dem Kurs bekannt, wird das gesamte Netz nun mit einer slice LR trainiert\n",
        "# Der Unterschied zw. erster und zweter LR sollte mindestens 1:10 betragen \n",
        "learn.fit_one_cycle(8, max_lr=slice(1e-05,1e-04))"
      ],
      "execution_count": 0,
      "outputs": []
    },
    {
      "cell_type": "code",
      "metadata": {
        "id": "tbuTLWUmWOv_",
        "colab_type": "code",
        "colab": {}
      },
      "source": [
        "# Speichern des Lernerfolges aus der zweiten Stufe des Trainings\n",
        "learn.save('stage-2-128')"
      ],
      "execution_count": 0,
      "outputs": []
    },
    {
      "cell_type": "markdown",
      "metadata": {
        "id": "QAC4Q7GvWqz0",
        "colab_type": "text"
      },
      "source": [
        "###Dritte Stufe###\n",
        "Sofern benoetigt wird hier das training des Netztes fortgesetzt, indem der selbe Datensatz mit hoeheren Bildgrößen an das Netz zum trainieren weitergegeben wird. Die ist ein Trick der als eine art Feintuning zu sehen ist."
      ]
    },
    {
      "cell_type": "code",
      "metadata": {
        "id": "_krf9FCAXBaC",
        "colab_type": "code",
        "colab": {}
      },
      "source": [
        "# Laden des Learners\n",
        "#learn.load('stage-2-128')"
      ],
      "execution_count": 0,
      "outputs": []
    },
    {
      "cell_type": "code",
      "metadata": {
        "id": "pih5CjK2XzTW",
        "colab_type": "code",
        "colab": {}
      },
      "source": [
        "#DATABUNCH mit veränderter groesse Uebergeben\n",
        "#Ebenfalls kann die Batchsize veraendert werden (kleiner)"
      ],
      "execution_count": 0,
      "outputs": []
    },
    {
      "cell_type": "code",
      "metadata": {
        "id": "DomjqWx7X35E",
        "colab_type": "code",
        "colab": {}
      },
      "source": [
        "# LR und Plotten"
      ],
      "execution_count": 0,
      "outputs": []
    },
    {
      "cell_type": "code",
      "metadata": {
        "id": "-3WZQ8W2YANd",
        "colab_type": "code",
        "colab": {}
      },
      "source": [
        "# Trainineren"
      ],
      "execution_count": 0,
      "outputs": []
    },
    {
      "cell_type": "code",
      "metadata": {
        "id": "B2j5GNC5YB2s",
        "colab_type": "code",
        "colab": {}
      },
      "source": [
        "# Speichern falls Verbesserung eingetreten ist\n",
        "learn.save('stage-3-224')"
      ],
      "execution_count": 0,
      "outputs": []
    },
    {
      "cell_type": "markdown",
      "metadata": {
        "id": "hkMBt6gjXQmx",
        "colab_type": "text"
      },
      "source": [
        "###Evaluation des aktuellen Models###"
      ]
    },
    {
      "cell_type": "code",
      "metadata": {
        "id": "wUtiAHPDXVsd",
        "colab_type": "code",
        "colab": {}
      },
      "source": [
        "# Qualitative Evaluation \n",
        "# HEATMAP\n",
        "# Visuelle Interpretation des Outputs (hier top loss)\n",
        "preds,y,losses = learn.get_preds(with_loss=True)\n",
        "interp = ClassificationInterpretation(learn, preds, y, losses)\n",
        "\n",
        "# \n",
        "# plot_top_losses mit heatmap um Grad-CAM anzuzeigen\n",
        "interp.plot_top_losses(25,figsize=(21,21),heatmap=True)"
      ],
      "execution_count": 0,
      "outputs": []
    },
    {
      "cell_type": "markdown",
      "metadata": {
        "id": "FQvsGHBtYYWg",
        "colab_type": "text"
      },
      "source": [
        "###Exportieren des CNN für die spätere Verwendung###"
      ]
    },
    {
      "cell_type": "code",
      "metadata": {
        "id": "A5RvHqW5YftF",
        "colab_type": "code",
        "colab": {}
      },
      "source": [
        "# Exportieren des aktuellen Models\n",
        "learn.export(file='fish_IC_Model.pkl')"
      ],
      "execution_count": 0,
      "outputs": []
    }
  ]
}